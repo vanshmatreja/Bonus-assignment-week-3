{
 "cells": [
  {
   "cell_type": "markdown",
   "id": "324f16d6",
   "metadata": {},
   "source": [
    "# Bonus Assignment 3: For Loops and Lists\n",
    "\n",
    "- Student Name:Vansh Matreja \n",
    "- Division: A\n",
    "- Roll Number: 38"
   ]
  },
  {
   "cell_type": "markdown",
   "id": "b07c8a7a",
   "metadata": {},
   "source": [
    "# For Loops"
   ]
  },
  {
   "cell_type": "markdown",
   "id": "fa6ebbf9",
   "metadata": {},
   "source": [
    "# Q1) Create a function called emoji_grader that accepts a list of grades and prints emojis based on the following grading scheme: \n",
    "- 100: 😱😱😱😱😱😱\n",
    "- 90 to 99: 🔥🔥🔥🔥🔥\n",
    "- 70 to 89: 🎉🎉🎉🎉🎉\n",
    "- 60 to 69: 😐😐😐😐😐\n",
    "- 35 to 59: 👀\n",
    "- 1 to 35: 👀👀👀👀👀\n",
    "- 0: 💀💀💀💀💀"
   ]
  },
  {
   "cell_type": "code",
   "execution_count": 1,
   "id": "a7b0caf0",
   "metadata": {},
   "outputs": [],
   "source": [
    "def emoji_grader(grades):\n",
    "    for grade in grades:\n",
    "        if grade == 100:\n",
    "            print(\"😱😱😱😱😱😱\")\n",
    "        elif grade  >= 90 and grade < 100:\n",
    "            print(\"🔥🔥🔥🔥🔥\")\n",
    "        elif grade >= 70 and grade < 89:\n",
    "            print(\"🎉🎉🎉🎉🎉\")\n",
    "        elif grade >= 60 and grade < 69:\n",
    "             print(\"😐😐😐😐😐\")\n",
    "        elif grade >= 35 and grade < 59:\n",
    "            print(\"👀\")\n",
    "        elif grade >= 1 and grade < 35:\n",
    "            print(\" 👀👀👀👀👀\")\n",
    "        else:\n",
    "            print(\"💀💀💀💀💀\")"
   ]
  },
  {
   "cell_type": "code",
   "execution_count": 2,
   "id": "ff97b33c",
   "metadata": {},
   "outputs": [
    {
     "name": "stdout",
     "output_type": "stream",
     "text": [
      "💀💀💀💀💀\n",
      " 👀👀👀👀👀\n",
      " 👀👀👀👀👀\n",
      "👀\n",
      "👀\n",
      "👀\n",
      "😐😐😐😐😐\n",
      "🎉🎉🎉🎉🎉\n",
      "🔥🔥🔥🔥🔥\n",
      "🔥🔥🔥🔥🔥\n",
      "😱😱😱😱😱😱\n"
     ]
    }
   ],
   "source": [
    "grades = [0,16,25,35,47,56,67,72.81,90,95,100]\n",
    "emoji_grader(grades)"
   ]
  },
  {
   "cell_type": "markdown",
   "id": "bac1f93e",
   "metadata": {},
   "source": [
    "## Q2) Create a function called square_printer that accepts a list of numbers and prints the square of each number in the list. Test your function with two lists. (5 Marks): \n",
    "\n",
    "**Here is an example of what the output would look like for the following list [2,4,5]**\n",
    "\n",
    "Current Number is 2  and the Square is 4\n",
    "\n",
    "Current Number is 4  and the Square is 16\n",
    "\n",
    "Current Number is 5  and the Square is 25"
   ]
  },
  {
   "cell_type": "code",
   "execution_count": 3,
   "id": "21d996c3",
   "metadata": {},
   "outputs": [],
   "source": [
    "def square_printer(numbers):\n",
    "    for number in numbers:\n",
    "        square= number*number\n",
    "        print(\"Current Number is\", number, \"and the Square is\", square)"
   ]
  },
  {
   "cell_type": "code",
   "execution_count": 4,
   "id": "db25e30a",
   "metadata": {},
   "outputs": [
    {
     "name": "stdout",
     "output_type": "stream",
     "text": [
      "Current Number is 16 and the Square is 256\n",
      "Current Number is 17 and the Square is 289\n",
      "Current Number is 18 and the Square is 324\n"
     ]
    }
   ],
   "source": [
    "numbers = [16,17,18]\n",
    "square_printer(numbers)"
   ]
  },
  {
   "cell_type": "code",
   "execution_count": 5,
   "id": "984755b4",
   "metadata": {},
   "outputs": [
    {
     "name": "stdout",
     "output_type": "stream",
     "text": [
      "Current Number is 20 and the Square is 400\n",
      "Current Number is 40 and the Square is 1600\n",
      "Current Number is 80 and the Square is 6400\n"
     ]
    }
   ],
   "source": [
    "numbers = [20,40,80]\n",
    "square_printer(numbers)"
   ]
  },
  {
   "cell_type": "markdown",
   "id": "c3fdc03e",
   "metadata": {},
   "source": [
    "# Q3) Create a function called vowel_count_printer that (10 Marks): \n",
    "\n",
    "\n",
    "- Accepts a sentence \n",
    "- Prints the total vowels (\"a\", \"e\", \"i', \"o\", \"u\") for each word in the sentence\n",
    "- Ensure your function is not case sensitve\n",
    "\n",
    "**For example, the sentence \"Hello, I am Zoshua Colah\" should print the following:**\n",
    "\n",
    "Current Word is: Hello and the Total Vowels in the Word are 2\n",
    "\n",
    "Current Word is: I and the Total Vowels in the Word are 1\n",
    "\n",
    "Current Word is: am and the Total Vowels in the Word are 1\n",
    "\n",
    "Current Word is: Zoshua and the Total Vowels in the Word are 3\n",
    "\n",
    "Current Word is: Colah and the Total Vowels in the Word are 2"
   ]
  },
  {
   "cell_type": "code",
   "execution_count": 6,
   "id": "3b304654",
   "metadata": {},
   "outputs": [],
   "source": [
    "def vowel_count_print(sentence):\n",
    "    words= sentence.split(\" \")\n",
    "    for word in words:\n",
    "        vowel_count=0\n",
    "        for letter in word:\n",
    "            if letter.lower() == \"a\" or letter.lower() == \"e\" or letter.lower() == \"i\" or letter.lower() == \"o\" or letter.lower() == \"u\":\n",
    "                 vowel_count = vowel_count + 1\n",
    "        print(\"Current Word is\", word, \"and the total vowels in the word are\", vowel_count)"
   ]
  },
  {
   "cell_type": "code",
   "execution_count": 7,
   "id": "c39bdacc",
   "metadata": {},
   "outputs": [
    {
     "name": "stdout",
     "output_type": "stream",
     "text": [
      "Current Word is Hi, and the total vowels in the word are 1\n",
      "Current Word is I and the total vowels in the word are 1\n",
      "Current Word is am and the total vowels in the word are 1\n",
      "Current Word is a and the total vowels in the word are 1\n",
      "Current Word is disc and the total vowels in the word are 1\n",
      "Current Word is jockey and the total vowels in the word are 2\n"
     ]
    }
   ],
   "source": [
    "vowel_count_print(\"Hi, I am a disc jockey\")"
   ]
  },
  {
   "cell_type": "code",
   "execution_count": null,
   "id": "9edc91ae",
   "metadata": {},
   "outputs": [],
   "source": []
  },
  {
   "cell_type": "code",
   "execution_count": null,
   "id": "73c7a3b4",
   "metadata": {},
   "outputs": [],
   "source": []
  }
 ],
 "metadata": {
  "kernelspec": {
   "display_name": "Python 3",
   "language": "python",
   "name": "python3"
  },
  "language_info": {
   "codemirror_mode": {
    "name": "ipython",
    "version": 3
   },
   "file_extension": ".py",
   "mimetype": "text/x-python",
   "name": "python",
   "nbconvert_exporter": "python",
   "pygments_lexer": "ipython3",
   "version": "3.8.8"
  }
 },
 "nbformat": 4,
 "nbformat_minor": 5
}
